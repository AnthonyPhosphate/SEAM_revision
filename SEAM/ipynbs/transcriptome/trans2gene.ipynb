{
 "cells": [
  {
   "cell_type": "code",
   "execution_count": 55,
   "metadata": {},
   "outputs": [],
   "source": [
    "import numpy as np\n",
    "import os\n",
    "import matplotlib.pyplot as plt\n",
    "import pandas as pd"
   ]
  },
  {
   "cell_type": "code",
   "execution_count": 45,
   "metadata": {},
   "outputs": [
    {
     "data": {
      "text/plain": [
       "['P19NT_10_htseq_count.txt',\n",
       " 'SampleTable.xlsx',\n",
       " 'P19NT_19_htseq_count.txt',\n",
       " 'P19NT_2_htseq_count.txt',\n",
       " 'P19NT_20_htseq_count.txt',\n",
       " 'SampleTable_1.xlsx',\n",
       " 'P19NT_24_htseq_count.txt',\n",
       " 'P19NT_5_htseq_count.txt',\n",
       " 'P19NT_1_htseq_count.txt',\n",
       " 'P19NT_11_htseq_count.txt',\n",
       " 'P19NT_15_htseq_count.txt',\n",
       " 'P19NT_7_htseq_count.txt',\n",
       " 'P19NT_9_htseq_count.txt',\n",
       " 'P19NT_4_htseq_count.txt',\n",
       " 'P19NT_18_htseq_count.txt',\n",
       " 'P19NT_27_htseq_count.txt',\n",
       " 'P19NT_3_htseq_count.txt',\n",
       " 'P19NT_14_htseq_count.txt',\n",
       " 'P19NT_8_htseq_count.txt',\n",
       " 'P19NT_23_htseq_count.txt',\n",
       " 'P19NT_22_htseq_count.txt',\n",
       " 'P19NT_6_htseq_count.txt']"
      ]
     },
     "execution_count": 45,
     "metadata": {},
     "output_type": "execute_result"
    }
   ],
   "source": [
    "file_list"
   ]
  },
  {
   "cell_type": "code",
   "execution_count": 44,
   "metadata": {},
   "outputs": [],
   "source": [
    "file_list = os.listdir(file_path)"
   ]
  },
  {
   "cell_type": "code",
   "execution_count": 35,
   "metadata": {},
   "outputs": [],
   "source": [
    "file_path = '/data02/qzhou/data/LMD/RNAseq/20191213/wkdir/Count/'\n",
    "filename = 'P19NT_10_htseq_count.txt'"
   ]
  },
  {
   "cell_type": "code",
   "execution_count": null,
   "metadata": {},
   "outputs": [],
   "source": [
    "for filename in file_list:\n",
    "    if filename.split('.')[-1]!='txt':\n",
    "        continue\n",
    "    "
   ]
  },
  {
   "cell_type": "code",
   "execution_count": 51,
   "metadata": {},
   "outputs": [],
   "source": [
    "def get_anno_ratio(filename,file_path='/data02/qzhou/data/LMD/RNAseq/20191213/wkdir/Count/'):\n",
    "    col2_list = []\n",
    "    col3_list = []\n",
    "    nonannoted_count = 0\n",
    "    with open(file_path+filename,'r') as f:\n",
    "        for line in f:\n",
    "            line = str.strip(line)\n",
    "            line_sp = line.split('\\t')\n",
    "            if line_sp[0]=='__no_feature':\n",
    "                nonannoted_count = int(line_sp[-1])\n",
    "            if line[0] == '_':\n",
    "                continue\n",
    "           \n",
    "    #         print(line_sp[0],line_sp[1],line_sp[2])\n",
    "            col2_list.append(line_sp[1])\n",
    "            col3_list.append(int(line_sp[2]))\n",
    "    col3_list_np = np.array(col3_list)    \n",
    "    annoted_count = col3_list_np.sum()\n",
    "    return annoted_count,nonannoted_count,annoted_count/(annoted_count+nonannoted_count)\n",
    "    "
   ]
  },
  {
   "cell_type": "code",
   "execution_count": 52,
   "metadata": {},
   "outputs": [
    {
     "data": {
      "text/plain": [
       "(3578268, 6230784, 0.3647924386576807)"
      ]
     },
     "execution_count": 52,
     "metadata": {},
     "output_type": "execute_result"
    }
   ],
   "source": [
    "get_anno_ratio(file_list[0],file_path='/data02/qzhou/data/LMD/RNAseq/20191213/wkdir/Count/')"
   ]
  },
  {
   "cell_type": "code",
   "execution_count": 53,
   "metadata": {},
   "outputs": [],
   "source": [
    "nonannoted_list = []\n",
    "annoted_list = []\n",
    "ratio_list = []\n",
    "valid_filename_list = []\n",
    "for filename in file_list:\n",
    "    if filename.split('.')[-1]!='txt':\n",
    "        continue \n",
    "    annoted_count,nonannoted_count,ratio = get_anno_ratio(filename)\n",
    "    nonannoted_list.append(nonannoted_count)\n",
    "    annoted_list.append(annoted_count)\n",
    "    ratio_list.append(ratio)\n",
    "    valid_filename_list.append(filename)"
   ]
  },
  {
   "cell_type": "code",
   "execution_count": 59,
   "metadata": {},
   "outputs": [
    {
     "data": {
      "text/plain": [
       "<BarContainer object of 20 artists>"
      ]
     },
     "execution_count": 59,
     "metadata": {},
     "output_type": "execute_result"
    },
    {
     "data": {
      "image/png": "[encoded data removed]",
      "text/plain": [
       "<Figure size 432x288 with 1 Axes>"
      ]
     },
     "metadata": {
      "needs_background": "light"
     },
     "output_type": "display_data"
    }
   ],
   "source": [
    "plt.xticks(rotation='vertical')\n",
    "plt.bar(x=valid_filename_list,height=ratio_list)"
   ]
  },
  {
   "cell_type": "code",
   "execution_count": 69,
   "metadata": {},
   "outputs": [],
   "source": [
    "def get_unique_genename_file(filename,file_path='/data02/qzhou/data/LMD/RNAseq/20191213/wkdir/Count/'):\n",
    "    col2_list = []\n",
    "    col3_list = []\n",
    "    file_tail =''\n",
    "    nonannoted_count = 0\n",
    "    with open(file_path+filename,'r') as f:\n",
    "        for line in f:\n",
    "            \n",
    "            \n",
    "            if line[0] == '_':\n",
    "                file_tail+=line\n",
    "                continue\n",
    "            line = str.strip(line)\n",
    "            line_sp = line.split('\\t')\n",
    "    #         print(line_sp[0],line_sp[1],line_sp[2])\n",
    "            col2_list.append(line_sp[1])\n",
    "            col3_list.append(int(line_sp[2]))\n",
    "    col2_list_np = np.array(col2_list)\n",
    "    col3_list_np = np.array(col3_list)    \n",
    "    unique_gene_name,unique_count = np.unique(col2_list_np,return_counts=1)\n",
    "    \n",
    "    unique_gene_count = np.zeros_like(unique_gene_name)\n",
    "    \n",
    "    for i in range(unique_gene_name.shape[0]):\n",
    "        unique_col2 = unique_gene_name[i]\n",
    "        idx_array = np.where(col2_list_np==unique_col2)[0]\n",
    "        cur_count = col3_list_np[idx_array].sum()\n",
    "        unique_gene_count[i] = cur_count\n",
    "    return unique_gene_name,unique_gene_count\n",
    "    "
   ]
  },
  {
   "cell_type": "code",
   "execution_count": 98,
   "metadata": {},
   "outputs": [],
   "source": [
    "def get_unique_genename_file(filename,file_path='/data02/qzhou/data/LMD/RNAseq/20191213/wkdir/Count/'):\n",
    "#     filename = file_list[0]\n",
    "    col2_list = []\n",
    "    col3_list = []\n",
    "    file_tail =''\n",
    "    nonannoted_count = 0\n",
    "    with open(file_path+filename,'r') as f:\n",
    "        for line in f:\n",
    "\n",
    "\n",
    "            if line[0] == '_':\n",
    "                file_tail+=line\n",
    "                continue\n",
    "            line = str.strip(line)\n",
    "            line_sp = line.split('\\t')\n",
    "    #         print(line_sp[0],line_sp[1],line_sp[2])\n",
    "            col2_list.append(line_sp[1])\n",
    "            col3_list.append(int(line_sp[2]))\n",
    "    col2_list_np = np.array(col2_list)\n",
    "    col3_list_np = np.array(col3_list)    \n",
    "    unique_gene_name,unique_count = np.unique(col2_list_np,return_counts=1)\n",
    "\n",
    "    unique_gene_count = np.zeros(shape=unique_gene_name.shape)\n",
    "\n",
    "    for i in range(unique_gene_name.shape[0]):\n",
    "        unique_col2 = unique_gene_name[i]\n",
    "        idx_array = np.where(col2_list_np==unique_col2)[0]\n",
    "        cur_count = col3_list_np[idx_array].sum()\n",
    "        unique_gene_count[i] = cur_count\n",
    "    # return unique_gene_name,unique_gene_count\n",
    "\n",
    "    with open(file_path+filename+'.unique','w') as f:\n",
    "        num_unique_genes = unique_gene_name.shape[0]\n",
    "        for i in range(num_unique_genes):\n",
    "            to_write = unique_gene_name[i]+'\\t'+str(unique_gene_count[i])+'\\n'\n",
    "            f.write(to_write)\n",
    "        f.write(file_tail)\n",
    "    return num_unique_genes"
   ]
  },
  {
   "cell_type": "code",
   "execution_count": 99,
   "metadata": {},
   "outputs": [],
   "source": [
    "n_unique_genes = get_unique_genename_file(file_list[2],file_path='/data02/qzhou/data/LMD/RNAseq/20191213/wkdir/Count/')"
   ]
  },
  {
   "cell_type": "code",
   "execution_count": 101,
   "metadata": {},
   "outputs": [
    {
     "name": "stdout",
     "output_type": "stream",
     "text": [
      "P19NT_10_htseq_count.txt 59368\n",
      "P19NT_19_htseq_count.txt 59368\n",
      "P19NT_2_htseq_count.txt 59368\n",
      "P19NT_20_htseq_count.txt 59368\n",
      "P19NT_24_htseq_count.txt 59368\n",
      "P19NT_5_htseq_count.txt 59368\n",
      "P19NT_1_htseq_count.txt 59368\n",
      "P19NT_11_htseq_count.txt 59368\n",
      "P19NT_15_htseq_count.txt 59368\n",
      "P19NT_7_htseq_count.txt 59368\n",
      "P19NT_9_htseq_count.txt 59368\n",
      "P19NT_4_htseq_count.txt 59368\n",
      "P19NT_18_htseq_count.txt 59368\n",
      "P19NT_27_htseq_count.txt 59368\n",
      "P19NT_3_htseq_count.txt 59368\n",
      "P19NT_14_htseq_count.txt 59368\n",
      "P19NT_8_htseq_count.txt 59368\n",
      "P19NT_23_htseq_count.txt 59368\n",
      "P19NT_22_htseq_count.txt 59368\n",
      "P19NT_6_htseq_count.txt 59368\n"
     ]
    }
   ],
   "source": [
    "n_unique_genes_list = []\n",
    "for filename in file_list:\n",
    "    if filename.split('.')[-1]!='txt':\n",
    "        continue \n",
    "    n_unique_genes = get_unique_genename_file(filename,file_path='/data02/qzhou/data/LMD/RNAseq/20191213/wkdir/Count/')\n",
    "    print(filename,n_unique_genes)\n",
    "    n_unique_genes_list.append(n_unique_genes)"
   ]
  },
  {
   "cell_type": "code",
   "execution_count": 100,
   "metadata": {},
   "outputs": [
    {
     "data": {
      "text/plain": [
       "59368"
      ]
     },
     "execution_count": 100,
     "metadata": {},
     "output_type": "execute_result"
    }
   ],
   "source": [
    "n_unique_genes"
   ]
  },
  {
   "cell_type": "code",
   "execution_count": 82,
   "metadata": {},
   "outputs": [],
   "source": [
    "Y_RNA_idx = np.where(col2_list_np=='Y_RNA')[0]\n"
   ]
  },
  {
   "cell_type": "code",
   "execution_count": 88,
   "metadata": {},
   "outputs": [
    {
     "data": {
      "text/plain": [
       "(756,)"
      ]
     },
     "execution_count": 88,
     "metadata": {},
     "output_type": "execute_result"
    }
   ],
   "source": [
    "Y_RNA_idx.shape"
   ]
  },
  {
   "cell_type": "code",
   "execution_count": 89,
   "metadata": {},
   "outputs": [
    {
     "data": {
      "text/plain": [
       "65"
      ]
     },
     "execution_count": 89,
     "metadata": {},
     "output_type": "execute_result"
    }
   ],
   "source": [
    "col3_list_np[Y_RNA_idx].sum()"
   ]
  },
  {
   "cell_type": "code",
   "execution_count": 85,
   "metadata": {},
   "outputs": [],
   "source": [
    "Y_RNA_unique_idx = np.where(unique_gene_name=='Y_RNA')[0]"
   ]
  },
  {
   "cell_type": "code",
   "execution_count": 90,
   "metadata": {},
   "outputs": [
    {
     "data": {
      "text/plain": [
       "array([65.])"
      ]
     },
     "execution_count": 90,
     "metadata": {},
     "output_type": "execute_result"
    }
   ],
   "source": [
    "unique_gene_count[Y_RNA_unique_idx]"
   ]
  },
  {
   "cell_type": "code",
   "execution_count": 70,
   "metadata": {},
   "outputs": [],
   "source": [
    "unique_gene_name,unique_gene_count=get_unique_genename_file(file_list[0],file_path='/data02/qzhou/data/LMD/RNAseq/20191213/wkdir/Count/')"
   ]
  },
  {
   "cell_type": "code",
   "execution_count": 71,
   "metadata": {},
   "outputs": [
    {
     "data": {
      "text/plain": [
       "(59368,)"
      ]
     },
     "execution_count": 71,
     "metadata": {},
     "output_type": "execute_result"
    }
   ],
   "source": [
    "unique_gene_name.shape"
   ]
  },
  {
   "cell_type": "code",
   "execution_count": 74,
   "metadata": {},
   "outputs": [
    {
     "data": {
      "text/plain": [
       "array(['0', '1', '0', ..., '0', '0', '0'], dtype='<U25')"
      ]
     },
     "execution_count": 74,
     "metadata": {},
     "output_type": "execute_result"
    }
   ],
   "source": [
    "unique_gene_count"
   ]
  },
  {
   "cell_type": "code",
   "execution_count": 37,
   "metadata": {},
   "outputs": [],
   "source": [
    "col2_list_np = np.array(col2_list)\n",
    "col3_list_np = np.array(col3_list)"
   ]
  },
  {
   "cell_type": "code",
   "execution_count": 68,
   "metadata": {},
   "outputs": [
    {
     "data": {
      "text/plain": [
       "array([1, 3])"
      ]
     },
     "execution_count": 68,
     "metadata": {},
     "output_type": "execute_result"
    }
   ],
   "source": [
    "a = np.array([1,3,5,3])\n",
    "np.where(a==3)[0]"
   ]
  },
  {
   "cell_type": "code",
   "execution_count": 17,
   "metadata": {},
   "outputs": [],
   "source": [
    "unique_gene_name,unique_count = np.unique(col2_list_np,return_counts=1)"
   ]
  },
  {
   "cell_type": "code",
   "execution_count": 18,
   "metadata": {},
   "outputs": [
    {
     "data": {
      "text/plain": [
       "(59368,)"
      ]
     },
     "execution_count": 18,
     "metadata": {},
     "output_type": "execute_result"
    }
   ],
   "source": [
    "unique_gene_name.shape"
   ]
  },
  {
   "cell_type": "code",
   "execution_count": 21,
   "metadata": {},
   "outputs": [],
   "source": [
    "uc_argsort = np.argsort(unique_count)"
   ]
  },
  {
   "cell_type": "code",
   "execution_count": 22,
   "metadata": {},
   "outputs": [],
   "source": [
    "uc_argsort_flip = np.flip(uc_argsort)"
   ]
  },
  {
   "cell_type": "code",
   "execution_count": 23,
   "metadata": {},
   "outputs": [
    {
     "data": {
      "text/plain": [
       "array(['Y_RNA', 'Metazoa_SRP', 'U3', ..., 'MIR935', 'MIR934', 'FSD2'],\n",
       "      dtype='<U25')"
      ]
     },
     "execution_count": 23,
     "metadata": {},
     "output_type": "execute_result"
    }
   ],
   "source": [
    "unique_gene_name[uc_argsort_flip]"
   ]
  },
  {
   "cell_type": "code",
   "execution_count": 31,
   "metadata": {},
   "outputs": [],
   "source": [
    "Y_RNA_idx = np.where(unique_gene_name=='Y_RNA')[0][0]"
   ]
  },
  {
   "cell_type": "code",
   "execution_count": 32,
   "metadata": {},
   "outputs": [
    {
     "data": {
      "text/plain": [
       "756"
      ]
     },
     "execution_count": 32,
     "metadata": {},
     "output_type": "execute_result"
    }
   ],
   "source": [
    "unique_count[Y_RNA_idx]"
   ]
  },
  {
   "cell_type": "markdown",
   "metadata": {},
   "source": [
    "np.argsort(a)"
   ]
  },
  {
   "cell_type": "markdown",
   "metadata": {},
   "source": [
    "#### fuck "
   ]
  },
  {
   "cell_type": "code",
   "execution_count": null,
   "metadata": {},
   "outputs": [],
   "source": []
  }
 ],
 "metadata": {
  "kernelspec": {
   "display_name": "python3_bioz",
   "language": "python",
   "name": "python3"
  },
  "language_info": {
   "codemirror_mode": {
    "name": "ipython",
    "version": 3
   },
   "file_extension": ".py",
   "mimetype": "text/x-python",
   "name": "python",
   "nbconvert_exporter": "python",
   "pygments_lexer": "ipython3",
   "version": "3.7.2"
  }
 },
 "nbformat": 4,
 "nbformat_minor": 4
}
